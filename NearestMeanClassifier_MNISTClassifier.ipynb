{
  "nbformat": 4,
  "nbformat_minor": 0,
  "metadata": {
    "colab": {
      "provenance": [],
      "authorship_tag": "ABX9TyOq8kYuCcUTPY3shOpQXIgh",
      "include_colab_link": true
    },
    "kernelspec": {
      "name": "python3",
      "display_name": "Python 3"
    },
    "language_info": {
      "name": "python"
    }
  },
  "cells": [
    {
      "cell_type": "markdown",
      "metadata": {
        "id": "view-in-github",
        "colab_type": "text"
      },
      "source": [
        "<a href=\"https://colab.research.google.com/github/saugabriele/IDSE_-lecture_1/blob/main/NearestMeanClassifier_MNISTClassifier.ipynb\" target=\"_parent\"><img src=\"https://colab.research.google.com/assets/colab-badge.svg\" alt=\"Open In Colab\"/></a>"
      ]
    },
    {
      "cell_type": "code",
      "execution_count": 1,
      "metadata": {
        "colab": {
          "base_uri": "https://localhost:8080/"
        },
        "id": "i9JjYdeAKiGK",
        "outputId": "6427c8e8-fd61-46e6-bef0-a059ee7f7376"
      },
      "outputs": [
        {
          "output_type": "stream",
          "name": "stderr",
          "text": [
            "/usr/local/lib/python3.9/dist-packages/sklearn/datasets/_openml.py:968: FutureWarning: The default value of `parser` will change from `'liac-arff'` to `'auto'` in 1.4. You can set `parser='auto'` to silence this warning. Therefore, an `ImportError` will be raised from 1.4 if the dataset is dense and pandas is not installed. Note that the pandas parser may return different data types. See the Notes Section in fetch_openml's API doc for details.\n",
            "  warn(\n",
            "/usr/local/lib/python3.9/dist-packages/sklearn/datasets/_openml.py:65: RuntimeWarning: Invalid cache, redownloading file\n",
            "  warn(\"Invalid cache, redownloading file\", RuntimeWarning)\n",
            "/usr/local/lib/python3.9/dist-packages/sklearn/datasets/_openml.py:100: UserWarning: A network error occurred while downloading https://openml.org/data/v1/download/52667. Retrying...\n",
            "  warn(\n"
          ]
        }
      ],
      "source": [
        "from sklearn.datasets import fetch_openml\n",
        "\n",
        "mnist = fetch_openml('mnist_784', cache= True)"
      ]
    },
    {
      "cell_type": "code",
      "source": [
        "import numpy as np\n",
        "import matplotlib.pyplot as plt\n",
        "\n",
        "x = np.array(mnist.data / 255)\n",
        "y = np.array(mnist.target, dtype = int)\n",
        "\n",
        "plt.figure(figsize=(10,5))\n",
        "\n",
        "for i in range(10):\n",
        "  plt.subplot(2,5,i+1)\n",
        "  img = x[i, :].reshape(28,28)\n",
        "  plt.imshow(img, cmap='gray')\n",
        "  plt.title(\"label: \" + str(y[i]))"
      ],
      "metadata": {
        "colab": {
          "base_uri": "https://localhost:8080/",
          "height": 308
        },
        "id": "1OrjqWdCYc10",
        "outputId": "00df35ea-77e2-4908-be87-6f3114bda57a"
      },
      "execution_count": 2,
      "outputs": [
        {
          "output_type": "display_data",
          "data": {
            "text/plain": [
              "<Figure size 720x360 with 10 Axes>"
            ],
            "image/png": "[encoded data removed]"
          },
          "metadata": {
            "needs_background": "light"
          }
        }
      ]
    },
    {
      "cell_type": "code",
      "source": [
        "def samples_per_class(y):\n",
        "  n_classes = np.unique(y).size\n",
        "  class_labels = np.unique(y)\n",
        "\n",
        "  #count how many element i have for each class\n",
        "  n_samples_per_class = np.zeros(shape=(n_classes,))\n",
        "\n",
        "  for k in range(n_classes):\n",
        "    n_samples_per_class[k] = np.sum(y==k)\n",
        "  \n",
        "  return n_samples_per_class, class_labels"
      ],
      "metadata": {
        "id": "Tg2XgykKcA7M"
      },
      "execution_count": 3,
      "outputs": []
    },
    {
      "cell_type": "code",
      "source": [
        "#data splits: the goal is to split X,y into two disjoints sets\n",
        "n_tr = 50000\n",
        "n_ts = 20000\n",
        "\n",
        "#before select a 1000 samples as training set and 1000 for the test set\n",
        "#we shuffle the entire data set and then we can choose the samples\n",
        "\n",
        "def split_data(x, y, n_tr, n_ts):\n",
        "\n",
        "  n_samples = x.shape[0]\n",
        "  idx = np.linspace(0, n_samples-1, num=n_samples, dtype=int)\n",
        "  np.random.shuffle(idx)   #Inplace operation\n",
        "  idx_tr = idx[:n_tr]\n",
        "  idx_ts = idx[n_tr:n_tr+n_ts]\n",
        "\n",
        "  x_tr = x[idx_tr, :]\n",
        "  y_tr = y[idx_tr]\n",
        "\n",
        "  x_ts = x[idx_ts, :]\n",
        "  y_ts = y[idx_ts]\n",
        "  return x_tr, y_tr, x_ts, y_ts\n",
        "\n",
        "x_tr, y_tr, x_ts, y_ts = split_data(x, y, n_tr, n_ts)\n",
        "\n",
        "n_tr_samples_per_class, class_labels_tr = samples_per_class(y_tr)\n",
        "n_ts_samples_per_class, class_labels_ts = samples_per_class(y_ts)\n",
        "\n",
        "plt.figure(figsize =(10, 5))\n",
        "plt.subplot(1,2,1)\n",
        "plt.bar(class_labels_tr, n_tr_samples_per_class)\n",
        "plt.subplot(1,2,2)\n",
        "plt.bar(class_labels_ts, n_ts_samples_per_class)"
      ],
      "metadata": {
        "colab": {
          "base_uri": "https://localhost:8080/",
          "height": 340
        },
        "id": "Xyd5OPrDqYor",
        "outputId": "cf709266-e7e4-46af-dcff-560aa868361e"
      },
      "execution_count": 4,
      "outputs": [
        {
          "output_type": "execute_result",
          "data": {
            "text/plain": [
              "<BarContainer object of 10 artists>"
            ]
          },
          "metadata": {},
          "execution_count": 4
        },
        {
          "output_type": "display_data",
          "data": {
            "text/plain": [
              "<Figure size 720x360 with 2 Axes>"
            ],
            "image/png": "[encoded data removed]"
          },
          "metadata": {
            "needs_background": "light"
          }
        }
      ]
    },
    {
      "cell_type": "code",
      "source": [
        "#we want to compute the average(centroid) image for each class (from the training set)\n",
        "\n",
        "def fit(x_tr, y_tr):\n",
        "  n_classes = np.unique(y).size\n",
        "  n_features = x.shape[1]\n",
        "\n",
        "  centroids = np.zeros(shape =(n_classes, n_features))\n",
        "\n",
        "  for k in range(n_classes):\n",
        "    #extract only image of 0 from x_tr\n",
        "    xk = x_tr[y_tr==k, :]\n",
        "    centroids[k, :] = np.mean(xk, axis = 0)#We can median beacause it is more robust\n",
        "  return centroids, n_classes\n",
        "\n",
        "centroids, n_classes = fit(x_tr, y_tr)\n",
        "\n",
        "#visualize the centroids\n",
        "plt.figure(figsize=(10,5))\n",
        "for i in range(n_classes):\n",
        "  plt.subplot(2,5,i+1)\n",
        "  plt.imshow(centroids[i,:].reshape(28,28), cmap='gray')\n",
        "  plt.title(\"label: \" + str(k))"
      ],
      "metadata": {
        "colab": {
          "base_uri": "https://localhost:8080/",
          "height": 308
        },
        "id": "0XJJdMIsqxOu",
        "outputId": "b71c5e8a-a207-46f2-94f6-d5362097d28c"
      },
      "execution_count": 26,
      "outputs": [
        {
          "output_type": "display_data",
          "data": {
            "text/plain": [
              "<Figure size 720x360 with 10 Axes>"
            ],
            "image/png": "[encoded data removed]"
          },
          "metadata": {
            "needs_background": "light"
          }
        }
      ]
    },
    {
      "cell_type": "code",
      "source": [
        "#Implentation of the predict\n",
        "#1. compute distances of test points against the centroids (distance matrix)\n",
        "#2. need to assign one predicted label to each test sample\n",
        "\n",
        "n_ts_samples = x_ts.shape[0]\n",
        "n_classes = centroids.shape[0]\n",
        "\n",
        "dist = np.zeros(shape=(n_ts_samples, n_classes))\n",
        "\n",
        "#here we can use broadcasting for speed up the proce ss of computing the distances\n",
        "for k in range(n_classes):\n",
        "  dist[:, k] = np.sqrt(np.sum((x_ts - centroids[k,:])**2, axis=1))\n",
        "\n",
        "#another possible solution using a  librery is\n",
        "from sklearn.metrics import pairwise_distances\n",
        "\n",
        "dist2 = pairwise_distances(x_ts, centroids)\n",
        "\n",
        "#now we need to make the preditions\n",
        "\n",
        "def predict(x_ts, centroids):\n",
        "  dist = pairwise_distances(x_ts, centroids)\n",
        "  y_pred = np.argmin(dist, axis=1)\n",
        "  return y_pred\n",
        "\n",
        "y_pred = predict(x_ts, centroids)\n",
        "\n",
        "print(\"Percentage of error: \", np.mean(y_pred != y_ts))"
      ],
      "metadata": {
        "colab": {
          "base_uri": "https://localhost:8080/"
        },
        "id": "XJGMF-oYu7Bl",
        "outputId": "8575b00d-ccbc-47e3-d7c4-3be3789834fc"
      },
      "execution_count": 35,
      "outputs": [
        {
          "output_type": "stream",
          "name": "stdout",
          "text": [
            "Percentage of error:  0.18565\n"
          ]
        }
      ]
    }
  ]
}